{
  "nbformat": 4,
  "nbformat_minor": 0,
  "metadata": {
    "colab": {
      "provenance": [],
      "gpuType": "T4"
    },
    "kernelspec": {
      "name": "python3",
      "display_name": "Python 3"
    },
    "language_info": {
      "name": "python"
    },
    "accelerator": "GPU"
  },
  "cells": [
    {
      "cell_type": "code",
      "execution_count": 1,
      "metadata": {
        "colab": {
          "base_uri": "https://localhost:8080/"
        },
        "id": "MbxfpsFHJuc5",
        "outputId": "1aba5d7e-9820-48bb-bade-9f207c81709c"
      },
      "outputs": [
        {
          "output_type": "stream",
          "name": "stdout",
          "text": [
            "Collecting SpeechRecognition\n",
            "  Downloading speechrecognition-3.14.2-py3-none-any.whl.metadata (30 kB)\n",
            "Requirement already satisfied: typing-extensions in /usr/local/lib/python3.11/dist-packages (from SpeechRecognition) (4.13.2)\n",
            "Downloading speechrecognition-3.14.2-py3-none-any.whl (32.9 MB)\n",
            "\u001b[2K   \u001b[90m━━━━━━━━━━━━━━━━━━━━━━━━━━━━━━━━━━━━━━━━\u001b[0m \u001b[32m32.9/32.9 MB\u001b[0m \u001b[31m48.6 MB/s\u001b[0m eta \u001b[36m0:00:00\u001b[0m\n",
            "\u001b[?25hInstalling collected packages: SpeechRecognition\n",
            "Successfully installed SpeechRecognition-3.14.2\n"
          ]
        }
      ],
      "source": [
        "pip install SpeechRecognition"
      ]
    },
    {
      "cell_type": "code",
      "source": [
        "import kagglehub\n",
        "import os\n",
        "import speech_recognition as sr"
      ],
      "metadata": {
        "id": "VgUyuky0J2ED"
      },
      "execution_count": 4,
      "outputs": []
    },
    {
      "cell_type": "code",
      "source": [
        "print(\"Downloading dataset...\")\n",
        "path = kagglehub.dataset_download(\"mathurinache/the-lj-speech-dataset\")\n",
        "print(\"Path to dataset files:\", path)"
      ],
      "metadata": {
        "colab": {
          "base_uri": "https://localhost:8080/"
        },
        "id": "UYd2YgrXKrMt",
        "outputId": "bdc507b6-124e-472e-fb20-4ffabdb1682c"
      },
      "execution_count": 5,
      "outputs": [
        {
          "output_type": "stream",
          "name": "stdout",
          "text": [
            "Downloading dataset...\n",
            "Warning: Looks like you're using an outdated `kagglehub` version (installed: 0.3.11), please consider upgrading to the latest version (0.3.12).\n",
            "Downloading from https://www.kaggle.com/api/v1/datasets/download/mathurinache/the-lj-speech-dataset?dataset_version_number=1...\n"
          ]
        },
        {
          "output_type": "stream",
          "name": "stderr",
          "text": [
            "100%|██████████| 2.99G/2.99G [00:41<00:00, 77.6MB/s]"
          ]
        },
        {
          "output_type": "stream",
          "name": "stdout",
          "text": [
            "Extracting files...\n"
          ]
        },
        {
          "output_type": "stream",
          "name": "stderr",
          "text": [
            "\n"
          ]
        },
        {
          "output_type": "stream",
          "name": "stdout",
          "text": [
            "Path to dataset files: /root/.cache/kagglehub/datasets/mathurinache/the-lj-speech-dataset/versions/1\n"
          ]
        }
      ]
    },
    {
      "cell_type": "code",
      "source": [
        "files = os.listdir(path)\n",
        "print(\"Files found:\", files)"
      ],
      "metadata": {
        "colab": {
          "base_uri": "https://localhost:8080/"
        },
        "id": "UQgpJiENKxDr",
        "outputId": "e5bba34b-c202-4769-a16e-31d9012f7d83"
      },
      "execution_count": 9,
      "outputs": [
        {
          "output_type": "stream",
          "name": "stdout",
          "text": [
            "Files found: ['LJSpeech-1.1']\n"
          ]
        }
      ]
    },
    {
      "cell_type": "code",
      "source": [
        "audio_folder = os.path.join(path, \"LJSpeech-1.1\", \"wavs\")\n",
        "audio_files = [f for f in os.listdir(audio_folder) if f.endswith('.wav')]"
      ],
      "metadata": {
        "id": "d7Oms2qmK-tj"
      },
      "execution_count": 10,
      "outputs": []
    },
    {
      "cell_type": "code",
      "source": [
        "if not audio_files:\n",
        "    print(\"No audio files found!\")\n",
        "    exit()"
      ],
      "metadata": {
        "id": "DEqwRLN6LBmS"
      },
      "execution_count": 11,
      "outputs": []
    },
    {
      "cell_type": "code",
      "source": [
        "audio_file_path = os.path.join(audio_folder, audio_files[0])\n",
        "print(f\"Using audio file: {audio_file_path}\")"
      ],
      "metadata": {
        "colab": {
          "base_uri": "https://localhost:8080/"
        },
        "id": "IOWEjPAzLE7U",
        "outputId": "bd732a04-1b43-4c6a-af8a-03d92d85111f"
      },
      "execution_count": 12,
      "outputs": [
        {
          "output_type": "stream",
          "name": "stdout",
          "text": [
            "Using audio file: /root/.cache/kagglehub/datasets/mathurinache/the-lj-speech-dataset/versions/1/LJSpeech-1.1/wavs/LJ007-0090.wav\n"
          ]
        }
      ]
    },
    {
      "cell_type": "code",
      "source": [
        "recognizer = sr.Recognizer()\n",
        "\n",
        "with sr.AudioFile(audio_file_path) as source:\n",
        "    audio_data = recognizer.record(source)\n",
        "    print(\"Recognizing...\")\n",
        "\n",
        "    try:\n",
        "        text = recognizer.recognize_google(audio_data)\n",
        "        print(\"\\nTranscription:\\n\")\n",
        "        print(text)\n",
        "    except sr.UnknownValueError:\n",
        "        print(\"Sorry, speech was unintelligible.\")\n",
        "    except sr.RequestError as e:\n",
        "        print(f\"Could not request results; {e}\")"
      ],
      "metadata": {
        "colab": {
          "base_uri": "https://localhost:8080/"
        },
        "id": "mwvJTiUXLIKc",
        "outputId": "d38882c9-6064-479f-98c1-f1d79c886b27"
      },
      "execution_count": 13,
      "outputs": [
        {
          "output_type": "stream",
          "name": "stdout",
          "text": [
            "Recognizing...\n",
            "\n",
            "Transcription:\n",
            "\n",
            "not only did their presents tend greatly to interfere with the discipline of the prison but their condition was deplorable in the extreme\n"
          ]
        }
      ]
    },
    {
      "cell_type": "code",
      "source": [],
      "metadata": {
        "id": "M171N3F9MlEM"
      },
      "execution_count": null,
      "outputs": []
    }
  ]
}